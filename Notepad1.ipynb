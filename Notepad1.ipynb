{
  "nbformat": 4,
  "nbformat_minor": 0,
  "metadata": {
    "colab": {
      "name": "Notepad1.ipynb",
      "provenance": [],
      "collapsed_sections": [
        "9P2zu0oivcf7",
        "z5oUS3TBxzmQ",
        "qNlyVoZizQeu",
        "synfr-Q9uqlV",
        "exogBAEYvN-W",
        "3Gh8VEbevpKz",
        "CerBwJhvwnKY",
        "FPn5RB7axKe5",
        "H2QZIGL3xc4_"
      ],
      "authorship_tag": "ABX9TyO9AC74U9SSh109SsZDuLFc",
      "include_colab_link": true
    },
    "kernelspec": {
      "name": "python3",
      "display_name": "Python 3"
    }
  },
  "cells": [
    {
      "cell_type": "markdown",
      "metadata": {
        "id": "view-in-github",
        "colab_type": "text"
      },
      "source": [
        "<a href=\"https://colab.research.google.com/github/MdShakawatAlSakib/new-year/blob/master/Notepad1.ipynb\" target=\"_parent\"><img src=\"https://colab.research.google.com/assets/colab-badge.svg\" alt=\"Open In Colab\"/></a>"
      ]
    },
    {
      "cell_type": "markdown",
      "metadata": {
        "id": "zHgGkRKhx7-W"
      },
      "source": [
        "### **Print Hello World!!**"
      ]
    },
    {
      "cell_type": "code",
      "metadata": {
        "id": "N_0xVvPCyC2-",
        "colab": {
          "base_uri": "https://localhost:8080/",
          "height": 34
        },
        "outputId": "5217f50d-4db7-4349-d01d-ba9615c9b876"
      },
      "source": [
        "print(\"Hello World !!!\")"
      ],
      "execution_count": null,
      "outputs": [
        {
          "output_type": "stream",
          "text": [
            "Hello World !!!\n"
          ],
          "name": "stdout"
        }
      ]
    },
    {
      "cell_type": "markdown",
      "metadata": {
        "id": "v82xDQWwyNIq"
      },
      "source": [
        "### **Assign  value in a Variable !!!**"
      ]
    },
    {
      "cell_type": "code",
      "metadata": {
        "id": "GSBtmULRy6aJ",
        "colab": {
          "base_uri": "https://localhost:8080/",
          "height": 34
        },
        "outputId": "525706f6-7b5d-4d90-bb41-b4060cffc110"
      },
      "source": [
        "x=5\n",
        "y=5\n",
        "print(x+y)"
      ],
      "execution_count": null,
      "outputs": [
        {
          "output_type": "stream",
          "text": [
            "10\n"
          ],
          "name": "stdout"
        }
      ]
    },
    {
      "cell_type": "code",
      "metadata": {
        "id": "YREP8K0F6S19",
        "colab": {
          "base_uri": "https://localhost:8080/",
          "height": 34
        },
        "outputId": "40ff584a-c30b-434d-f3e8-c1aaab2cbb3e"
      },
      "source": [
        "total=x+y\n",
        "print(total)"
      ],
      "execution_count": null,
      "outputs": [
        {
          "output_type": "stream",
          "text": [
            "10\n"
          ],
          "name": "stdout"
        }
      ]
    },
    {
      "cell_type": "code",
      "metadata": {
        "id": "cPfiLd1W6Z9E",
        "colab": {
          "base_uri": "https://localhost:8080/",
          "height": 34
        },
        "outputId": "02a33efe-f434-4e9c-dcb5-9ecf2645f140"
      },
      "source": [
        "name=\"Md.\"\n",
        "name1=\"Shakawat Al\"\n",
        "name2=\"Sakib\"\n",
        "print(name+name1+name2)"
      ],
      "execution_count": null,
      "outputs": [
        {
          "output_type": "stream",
          "text": [
            "Md.Shakawat AlSakib\n"
          ],
          "name": "stdout"
        }
      ]
    },
    {
      "cell_type": "markdown",
      "metadata": {
        "id": "Y8ybT50D66e5"
      },
      "source": [
        "### **Types**"
      ]
    },
    {
      "cell_type": "code",
      "metadata": {
        "id": "XAndCtoa6_0Y",
        "colab": {
          "base_uri": "https://localhost:8080/",
          "height": 34
        },
        "outputId": "40e8f171-9e71-45b6-843b-7448a140bda9"
      },
      "source": [
        "a=10\n",
        "type(a)"
      ],
      "execution_count": null,
      "outputs": [
        {
          "output_type": "execute_result",
          "data": {
            "text/plain": [
              "int"
            ]
          },
          "metadata": {
            "tags": []
          },
          "execution_count": 6
        }
      ]
    },
    {
      "cell_type": "code",
      "metadata": {
        "id": "Rtro4ha0rtrr",
        "colab": {
          "base_uri": "https://localhost:8080/",
          "height": 34
        },
        "outputId": "5288c610-e21f-414c-8b86-7e608cb9077f"
      },
      "source": [
        "a=10.5\n",
        "type(a)"
      ],
      "execution_count": null,
      "outputs": [
        {
          "output_type": "execute_result",
          "data": {
            "text/plain": [
              "float"
            ]
          },
          "metadata": {
            "tags": []
          },
          "execution_count": 2
        }
      ]
    },
    {
      "cell_type": "code",
      "metadata": {
        "id": "3Bne0e0msZxT",
        "colab": {
          "base_uri": "https://localhost:8080/",
          "height": 34
        },
        "outputId": "279de925-2109-40fa-f681-722c947f4611"
      },
      "source": [
        "a=\"Sakib\"\n",
        "type(a)"
      ],
      "execution_count": null,
      "outputs": [
        {
          "output_type": "execute_result",
          "data": {
            "text/plain": [
              "str"
            ]
          },
          "metadata": {
            "tags": []
          },
          "execution_count": 3
        }
      ]
    },
    {
      "cell_type": "markdown",
      "metadata": {
        "id": "Xc9B1XtSskTV"
      },
      "source": [
        "### **Arithmetic**"
      ]
    },
    {
      "cell_type": "code",
      "metadata": {
        "id": "Ycm2H29Gs8fE",
        "colab": {
          "base_uri": "https://localhost:8080/",
          "height": 34
        },
        "outputId": "bb587456-61aa-4977-d4ac-a8343268b38f"
      },
      "source": [
        "multiplication=3*4\n",
        "print(multiplication)"
      ],
      "execution_count": null,
      "outputs": [
        {
          "output_type": "stream",
          "text": [
            "12\n"
          ],
          "name": "stdout"
        }
      ]
    },
    {
      "cell_type": "code",
      "metadata": {
        "id": "GfU-ey7QtAFQ",
        "colab": {
          "base_uri": "https://localhost:8080/",
          "height": 34
        },
        "outputId": "94fd9859-7cd5-4714-c0f5-f98c3751ac15"
      },
      "source": [
        "add=3+4\n",
        "print(add)"
      ],
      "execution_count": null,
      "outputs": [
        {
          "output_type": "stream",
          "text": [
            "7\n"
          ],
          "name": "stdout"
        }
      ]
    },
    {
      "cell_type": "code",
      "metadata": {
        "id": "YjkWndWttAvQ",
        "colab": {
          "base_uri": "https://localhost:8080/",
          "height": 34
        },
        "outputId": "718f3082-08ec-4733-c759-bcfa56c14366"
      },
      "source": [
        "sub=4-1\n",
        "print(sub)"
      ],
      "execution_count": null,
      "outputs": [
        {
          "output_type": "stream",
          "text": [
            "3\n"
          ],
          "name": "stdout"
        }
      ]
    },
    {
      "cell_type": "code",
      "metadata": {
        "id": "P-6apwCEtA9V",
        "colab": {
          "base_uri": "https://localhost:8080/",
          "height": 34
        },
        "outputId": "cc68e96a-971e-470c-df58-6e66f07254f1"
      },
      "source": [
        "div=25/5\n",
        "print(div)"
      ],
      "execution_count": null,
      "outputs": [
        {
          "output_type": "stream",
          "text": [
            "5.0\n"
          ],
          "name": "stdout"
        }
      ]
    },
    {
      "cell_type": "markdown",
      "metadata": {
        "id": "svLvXupYtXAt"
      },
      "source": [
        "## **True Division(/) vs Floor Division(//)**"
      ]
    },
    {
      "cell_type": "code",
      "metadata": {
        "id": "ejQPiYDrtvcd",
        "colab": {
          "base_uri": "https://localhost:8080/",
          "height": 34
        },
        "outputId": "2c3111b6-8e7d-4a4b-8b9e-332b82cb6761"
      },
      "source": [
        "True_division = 7/4\n",
        "print(True_division)"
      ],
      "execution_count": null,
      "outputs": [
        {
          "output_type": "stream",
          "text": [
            "1.75\n"
          ],
          "name": "stdout"
        }
      ]
    },
    {
      "cell_type": "code",
      "metadata": {
        "id": "QZ5A0Oo1uJbU",
        "colab": {
          "base_uri": "https://localhost:8080/",
          "height": 34
        },
        "outputId": "ffaa0978-d4f1-465c-ac84-23f783f8b52f"
      },
      "source": [
        "False_division = 7//4\n",
        "print(False_division)"
      ],
      "execution_count": null,
      "outputs": [
        {
          "output_type": "stream",
          "text": [
            "1\n"
          ],
          "name": "stdout"
        }
      ]
    },
    {
      "cell_type": "code",
      "metadata": {
        "id": "fKPwJBKmuRBS",
        "colab": {
          "base_uri": "https://localhost:8080/",
          "height": 34
        },
        "outputId": "90c5c621-f01c-4aed-f513-626abbe4ad64"
      },
      "source": [
        "reminder = 15%7\n",
        "print(reminder)"
      ],
      "execution_count": null,
      "outputs": [
        {
          "output_type": "stream",
          "text": [
            "1\n"
          ],
          "name": "stdout"
        }
      ]
    },
    {
      "cell_type": "code",
      "metadata": {
        "id": "vcv42B_2uf-w",
        "colab": {
          "base_uri": "https://localhost:8080/",
          "height": 34
        },
        "outputId": "78646b6e-67fc-4736-bbea-56aeaa400b79"
      },
      "source": [
        "x=60\n",
        "y=70\n",
        "x>y"
      ],
      "execution_count": null,
      "outputs": [
        {
          "output_type": "execute_result",
          "data": {
            "text/plain": [
              "False"
            ]
          },
          "metadata": {
            "tags": []
          },
          "execution_count": 13
        }
      ]
    },
    {
      "cell_type": "code",
      "metadata": {
        "id": "smliYr3mugmU",
        "colab": {
          "base_uri": "https://localhost:8080/",
          "height": 34
        },
        "outputId": "52e0b016-fff9-4300-abb7-26e699a70156"
      },
      "source": [
        "x<y"
      ],
      "execution_count": null,
      "outputs": [
        {
          "output_type": "execute_result",
          "data": {
            "text/plain": [
              "True"
            ]
          },
          "metadata": {
            "tags": []
          },
          "execution_count": 14
        }
      ]
    },
    {
      "cell_type": "code",
      "metadata": {
        "id": "NgvJQhhzvNDB",
        "colab": {
          "base_uri": "https://localhost:8080/",
          "height": 34
        },
        "outputId": "e77247ac-7e71-4d2b-ea6e-d4408abb9197"
      },
      "source": [
        "x==y"
      ],
      "execution_count": null,
      "outputs": [
        {
          "output_type": "execute_result",
          "data": {
            "text/plain": [
              "False"
            ]
          },
          "metadata": {
            "tags": []
          },
          "execution_count": 15
        }
      ]
    },
    {
      "cell_type": "code",
      "metadata": {
        "id": "ETBjI-YAvUvb",
        "colab": {
          "base_uri": "https://localhost:8080/",
          "height": 34
        },
        "outputId": "57fd9bd6-e213-4aee-bcf5-23dc3571dd22"
      },
      "source": [
        "x<=y"
      ],
      "execution_count": null,
      "outputs": [
        {
          "output_type": "execute_result",
          "data": {
            "text/plain": [
              "True"
            ]
          },
          "metadata": {
            "tags": []
          },
          "execution_count": 16
        }
      ]
    },
    {
      "cell_type": "code",
      "metadata": {
        "id": "UzyzcMaPvU-F",
        "colab": {
          "base_uri": "https://localhost:8080/",
          "height": 34
        },
        "outputId": "68046e93-9e7a-4328-8376-82b629e9903a"
      },
      "source": [
        "x>=y"
      ],
      "execution_count": null,
      "outputs": [
        {
          "output_type": "execute_result",
          "data": {
            "text/plain": [
              "False"
            ]
          },
          "metadata": {
            "tags": []
          },
          "execution_count": 17
        }
      ]
    },
    {
      "cell_type": "markdown",
      "metadata": {
        "id": "9P2zu0oivcf7"
      },
      "source": [
        "### **Chainning Comparisons**"
      ]
    },
    {
      "cell_type": "code",
      "metadata": {
        "id": "Xff2PXgAvlgL"
      },
      "source": [
        "x=3\n",
        "y=10"
      ],
      "execution_count": null,
      "outputs": []
    },
    {
      "cell_type": "code",
      "metadata": {
        "id": "ntDww6UOxlXr",
        "colab": {
          "base_uri": "https://localhost:8080/",
          "height": 34
        },
        "outputId": "3496c231-f22c-4815-fa72-9aa879a5e5d8"
      },
      "source": [
        "1<=x<=5"
      ],
      "execution_count": null,
      "outputs": [
        {
          "output_type": "execute_result",
          "data": {
            "text/plain": [
              "True"
            ]
          },
          "metadata": {
            "tags": []
          },
          "execution_count": 19
        }
      ]
    },
    {
      "cell_type": "code",
      "metadata": {
        "id": "T_S6ILlZxry2",
        "colab": {
          "base_uri": "https://localhost:8080/",
          "height": 34
        },
        "outputId": "dc2c0e03-6099-43a9-8ea2-64c77f9d8177"
      },
      "source": [
        "1<=y<=5"
      ],
      "execution_count": null,
      "outputs": [
        {
          "output_type": "execute_result",
          "data": {
            "text/plain": [
              "False"
            ]
          },
          "metadata": {
            "tags": []
          },
          "execution_count": 20
        }
      ]
    },
    {
      "cell_type": "markdown",
      "metadata": {
        "id": "z5oUS3TBxzmQ"
      },
      "source": [
        "### **Printing a comma-separated list of items**"
      ]
    },
    {
      "cell_type": "code",
      "metadata": {
        "id": "iIpOJziOyCLo",
        "colab": {
          "base_uri": "https://localhost:8080/",
          "height": 34
        },
        "outputId": "41e8106c-978c-48ab-b790-6342dea5d928"
      },
      "source": [
        "print(\"Welcome\",\"To\",\"Python\")"
      ],
      "execution_count": null,
      "outputs": [
        {
          "output_type": "stream",
          "text": [
            "Welcome To Python\n"
          ],
          "name": "stdout"
        }
      ]
    },
    {
      "cell_type": "code",
      "metadata": {
        "id": "4Se4K02OyMk8",
        "colab": {
          "base_uri": "https://localhost:8080/",
          "height": 68
        },
        "outputId": "362f52d3-5191-423a-e770-a902e3a2789d"
      },
      "source": [
        "print(\"Welcome\\nTo\\nPython\")"
      ],
      "execution_count": null,
      "outputs": [
        {
          "output_type": "stream",
          "text": [
            "Welcome\n",
            "To\n",
            "Python\n"
          ],
          "name": "stdout"
        }
      ]
    },
    {
      "cell_type": "markdown",
      "metadata": {
        "id": "qNlyVoZizQeu"
      },
      "source": [
        "### **Ignoring a line break in a long string**"
      ]
    },
    {
      "cell_type": "code",
      "metadata": {
        "id": "hqlse_vbzsU3",
        "colab": {
          "base_uri": "https://localhost:8080/",
          "height": 34
        },
        "outputId": "79ead783-6c4c-48ad-d05f-24cd80d3e80d"
      },
      "source": [
        "print(\"THis is a long string,\\so we split the line\")"
      ],
      "execution_count": null,
      "outputs": [
        {
          "output_type": "stream",
          "text": [
            "THis is a long string,\\so we split the line\n"
          ],
          "name": "stdout"
        }
      ]
    },
    {
      "cell_type": "markdown",
      "metadata": {
        "id": "synfr-Q9uqlV"
      },
      "source": [
        "### **Printing the value of an expression**"
      ]
    },
    {
      "cell_type": "code",
      "metadata": {
        "id": "VJM6sObuuzZT",
        "colab": {
          "base_uri": "https://localhost:8080/",
          "height": 34
        },
        "outputId": "31f5010e-e288-4489-cff1-90213e267c38"
      },
      "source": [
        "print('sum is',7+4)"
      ],
      "execution_count": null,
      "outputs": [
        {
          "output_type": "stream",
          "text": [
            "sum is 11\n"
          ],
          "name": "stdout"
        }
      ]
    },
    {
      "cell_type": "markdown",
      "metadata": {
        "id": "4UdkdsIdvIqn"
      },
      "source": [
        ""
      ]
    },
    {
      "cell_type": "markdown",
      "metadata": {
        "id": "exogBAEYvN-W"
      },
      "source": [
        "### **Display Print Statement**"
      ]
    },
    {
      "cell_type": "code",
      "metadata": {
        "id": "dKDeadU7vSRu",
        "colab": {
          "base_uri": "https://localhost:8080/",
          "height": 34
        },
        "outputId": "8ad62a6d-91ad-4a87-8275-c5fd8ecf205f"
      },
      "source": [
        "print('int(6.2)','truncates 5.2 to',int(5.2))"
      ],
      "execution_count": null,
      "outputs": [
        {
          "output_type": "stream",
          "text": [
            "int(6.2) truncates 5.2 to 5\n"
          ],
          "name": "stdout"
        }
      ]
    },
    {
      "cell_type": "markdown",
      "metadata": {
        "id": "3Gh8VEbevpKz"
      },
      "source": [
        "### **Including Quotes in string**"
      ]
    },
    {
      "cell_type": "code",
      "metadata": {
        "id": "LELZYp-EvtcC",
        "colab": {
          "base_uri": "https://localhost:8080/",
          "height": 34
        },
        "outputId": "6ed9c35f-5df1-41e6-cd0e-54ad6d425708"
      },
      "source": [
        "print('Display \"Hi\" in terminal')"
      ],
      "execution_count": null,
      "outputs": [
        {
          "output_type": "stream",
          "text": [
            "Display \"Hi\" in terminal\n"
          ],
          "name": "stdout"
        }
      ]
    },
    {
      "cell_type": "code",
      "metadata": {
        "id": "Ln7BnB5ov8np",
        "colab": {
          "base_uri": "https://localhost:8080/",
          "height": 34
        },
        "outputId": "39f188f7-74ec-4e21-a806-ea8f3acbba85"
      },
      "source": [
        "print('Display \\'hi\\'in terminal')"
      ],
      "execution_count": null,
      "outputs": [
        {
          "output_type": "stream",
          "text": [
            "Display 'hi'in terminal\n"
          ],
          "name": "stdout"
        }
      ]
    },
    {
      "cell_type": "code",
      "metadata": {
        "id": "XoVLDBAlwTiE",
        "colab": {
          "base_uri": "https://localhost:8080/",
          "height": 34
        },
        "outputId": "7081531f-629e-42b4-a6bf-cd83bdf1fd4c"
      },
      "source": [
        "print(\"Display O'Brain in terminal\")"
      ],
      "execution_count": null,
      "outputs": [
        {
          "output_type": "stream",
          "text": [
            "Display O'Brain in terminal\n"
          ],
          "name": "stdout"
        }
      ]
    },
    {
      "cell_type": "markdown",
      "metadata": {
        "id": "CerBwJhvwnKY"
      },
      "source": [
        "### **Avoid ' and \" in string**"
      ]
    },
    {
      "cell_type": "code",
      "metadata": {
        "id": "j4nuMBA6wsNn",
        "colab": {
          "base_uri": "https://localhost:8080/",
          "height": 34
        },
        "outputId": "8873a8f7-9d54-472f-a40b-f0cad22f6cfd"
      },
      "source": [
        "print(\"\"\"Display \"hi\" and 'bye' in terminal\"\"\")"
      ],
      "execution_count": null,
      "outputs": [
        {
          "output_type": "stream",
          "text": [
            "Display \"hi\" and 'bye' in terminal\n"
          ],
          "name": "stdout"
        }
      ]
    },
    {
      "cell_type": "markdown",
      "metadata": {
        "id": "FPn5RB7axKe5"
      },
      "source": [
        "### **Multiline String**"
      ]
    },
    {
      "cell_type": "code",
      "metadata": {
        "id": "B_woX8ayxNgc",
        "colab": {
          "base_uri": "https://localhost:8080/",
          "height": 34
        },
        "outputId": "28645882-5bb7-4c86-84cc-4003d267515c"
      },
      "source": [
        "triple_string=\"\"\"This is a triple string that mixes two lines\"\"\"\n",
        "print(triple_string)"
      ],
      "execution_count": null,
      "outputs": [
        {
          "output_type": "stream",
          "text": [
            "This is a triple string that mixes two lines\n"
          ],
          "name": "stdout"
        }
      ]
    },
    {
      "cell_type": "markdown",
      "metadata": {
        "id": "H2QZIGL3xc4_"
      },
      "source": [
        "### **Precision Handling in Python**"
      ]
    },
    {
      "cell_type": "code",
      "metadata": {
        "id": "GzNfgTaLxhIE",
        "colab": {
          "base_uri": "https://localhost:8080/",
          "height": 34
        },
        "outputId": "0de760f8-53bf-4194-a503-639424e84e8e"
      },
      "source": [
        "a=3.45675434676\n",
        "print (\"The value of number till 2 decimal place(using %) is : \",end=\"\")\n",
        "print('%.2f'%a)"
      ],
      "execution_count": null,
      "outputs": [
        {
          "output_type": "stream",
          "text": [
            "The value of number till 2 decimal place(using %) is : 3.46\n"
          ],
          "name": "stdout"
        }
      ]
    },
    {
      "cell_type": "markdown",
      "metadata": {
        "id": "IhdBVpwx662E"
      },
      "source": [
        "### **Input From User**"
      ]
    },
    {
      "cell_type": "code",
      "metadata": {
        "id": "A0wx3G9ZLHpx"
      },
      "source": [
        ""
      ],
      "execution_count": null,
      "outputs": []
    },
    {
      "cell_type": "code",
      "metadata": {
        "id": "oW5ce4wl7x9p",
        "colab": {
          "base_uri": "https://localhost:8080/",
          "height": 51
        },
        "outputId": "5f7623ef-ee14-48f8-fe4c-0cdbb81f0861"
      },
      "source": [
        "name = input (\"Whats your name: \")\n",
        "print(name)"
      ],
      "execution_count": null,
      "outputs": [
        {
          "output_type": "stream",
          "text": [
            "Whats your name: Sakib\n",
            "Sakib\n"
          ],
          "name": "stdout"
        }
      ]
    },
    {
      "cell_type": "code",
      "metadata": {
        "id": "qEQ3eUCM7-eN",
        "colab": {
          "base_uri": "https://localhost:8080/",
          "height": 51
        },
        "outputId": "625bc3c3-bfb7-4d10-9d16-9feed6351a6e"
      },
      "source": [
        "val1=input('Enter 1st num : ')\n",
        "val2=input('Enter 2nd num: ')"
      ],
      "execution_count": null,
      "outputs": [
        {
          "output_type": "stream",
          "text": [
            "Enter 1st num : 10\n",
            "Enter 2nd num: 18\n"
          ],
          "name": "stdout"
        }
      ]
    },
    {
      "cell_type": "code",
      "metadata": {
        "id": "ohv1vLHM8SXm",
        "colab": {
          "base_uri": "https://localhost:8080/",
          "height": 34
        },
        "outputId": "bce47695-f01c-43d5-ba86-7918adb68f3e"
      },
      "source": [
        "total = val1+val2\n",
        "print(total)"
      ],
      "execution_count": null,
      "outputs": [
        {
          "output_type": "stream",
          "text": [
            "1018\n"
          ],
          "name": "stdout"
        }
      ]
    },
    {
      "cell_type": "code",
      "metadata": {
        "id": "eq_qhlmS8ZkG",
        "colab": {
          "base_uri": "https://localhost:8080/",
          "height": 34
        },
        "outputId": "f46cc5f3-9b37-417c-d895-a91e237d5c6b"
      },
      "source": [
        "type(total)"
      ],
      "execution_count": null,
      "outputs": [
        {
          "output_type": "execute_result",
          "data": {
            "text/plain": [
              "str"
            ]
          },
          "metadata": {
            "tags": []
          },
          "execution_count": 4
        }
      ]
    },
    {
      "cell_type": "code",
      "metadata": {
        "id": "mDckpHZc8cbt",
        "colab": {
          "base_uri": "https://localhost:8080/",
          "height": 34
        },
        "outputId": "a3e90631-a0df-4d47-93c0-52cf182f8224"
      },
      "source": [
        "total = int(val1)+int(val2)\n",
        "print(total)\n"
      ],
      "execution_count": null,
      "outputs": [
        {
          "output_type": "stream",
          "text": [
            "28\n"
          ],
          "name": "stdout"
        }
      ]
    },
    {
      "cell_type": "markdown",
      "metadata": {
        "id": "T9vBqvtz8mgq"
      },
      "source": [
        "### **Getting an integar from User by casting the input format**"
      ]
    },
    {
      "cell_type": "code",
      "metadata": {
        "id": "XIO7z6mp8-Xp",
        "colab": {
          "base_uri": "https://localhost:8080/",
          "height": 34
        },
        "outputId": "acef6c2b-54fa-4905-da35-66b172160413"
      },
      "source": [
        "another_value = int(input('Enter another integar: '))"
      ],
      "execution_count": null,
      "outputs": [
        {
          "output_type": "stream",
          "text": [
            "Enter another integar: 20\n"
          ],
          "name": "stdout"
        }
      ]
    },
    {
      "cell_type": "code",
      "metadata": {
        "id": "2jLL7b8U9CIv",
        "colab": {
          "base_uri": "https://localhost:8080/",
          "height": 34
        },
        "outputId": "865c0139-44dd-4b41-8cec-44ee4ff3da1f"
      },
      "source": [
        "print(another_value)"
      ],
      "execution_count": null,
      "outputs": [
        {
          "output_type": "stream",
          "text": [
            "20\n"
          ],
          "name": "stdout"
        }
      ]
    },
    {
      "cell_type": "markdown",
      "metadata": {
        "id": "8ctiok0P9F5-"
      },
      "source": [
        "### **Talking multiple input from user**"
      ]
    },
    {
      "cell_type": "code",
      "metadata": {
        "id": "taQvPvWV9LK-",
        "colab": {
          "base_uri": "https://localhost:8080/",
          "height": 34
        },
        "outputId": "d693ab91-4313-432c-caca-a3499041f396"
      },
      "source": [
        "a,b = input().split()"
      ],
      "execution_count": null,
      "outputs": [
        {
          "output_type": "stream",
          "text": [
            "10 12\n"
          ],
          "name": "stdout"
        }
      ]
    },
    {
      "cell_type": "code",
      "metadata": {
        "id": "opkNgFcD9Q9w",
        "colab": {
          "base_uri": "https://localhost:8080/",
          "height": 34
        },
        "outputId": "a17a2265-6076-4f28-ca9c-2404c1f55569"
      },
      "source": [
        "print(a,b)"
      ],
      "execution_count": null,
      "outputs": [
        {
          "output_type": "stream",
          "text": [
            "10 12\n"
          ],
          "name": "stdout"
        }
      ]
    },
    {
      "cell_type": "code",
      "metadata": {
        "id": "ExkcIOwM9Zee",
        "colab": {
          "base_uri": "https://localhost:8080/",
          "height": 34
        },
        "outputId": "e6309337-7c9e-4892-9953-eb4cb4410d0b"
      },
      "source": [
        "print(type(a))"
      ],
      "execution_count": null,
      "outputs": [
        {
          "output_type": "stream",
          "text": [
            "<class 'str'>\n"
          ],
          "name": "stdout"
        }
      ]
    },
    {
      "cell_type": "markdown",
      "metadata": {
        "id": "eCRUg-vE9gFM"
      },
      "source": [
        "### **Determining the Minimum and maximum with Build-In functions min & max**"
      ]
    },
    {
      "cell_type": "code",
      "metadata": {
        "id": "I73MwQg49v5M",
        "colab": {
          "base_uri": "https://localhost:8080/",
          "height": 68
        },
        "outputId": "57e3bb07-e5ad-4c38-d2e5-9d043c37a8a7"
      },
      "source": [
        "num1=int(input('Enter 1st int: '))\n",
        "num2=int(input('Enter 2nd int: '))\n",
        "num3=int(input('Enter 3rd int: '))"
      ],
      "execution_count": null,
      "outputs": [
        {
          "output_type": "stream",
          "text": [
            "Enter 1st int: 10\n",
            "Enter 2nd int: 20\n",
            "Enter 3rd int: 30\n"
          ],
          "name": "stdout"
        }
      ]
    },
    {
      "cell_type": "code",
      "metadata": {
        "id": "pK4jnWR4-DSC",
        "colab": {
          "base_uri": "https://localhost:8080/",
          "height": 34
        },
        "outputId": "21a6493c-993e-478c-a1cd-e0960deb72a4"
      },
      "source": [
        "min(num1,num2,num3)"
      ],
      "execution_count": null,
      "outputs": [
        {
          "output_type": "execute_result",
          "data": {
            "text/plain": [
              "10"
            ]
          },
          "metadata": {
            "tags": []
          },
          "execution_count": 13
        }
      ]
    },
    {
      "cell_type": "code",
      "metadata": {
        "id": "PBgFBKE8-IsO",
        "colab": {
          "base_uri": "https://localhost:8080/",
          "height": 34
        },
        "outputId": "64b67f31-ad6c-4b0a-d112-d017827fd2d3"
      },
      "source": [
        "max(num1,num2,num3)"
      ],
      "execution_count": null,
      "outputs": [
        {
          "output_type": "execute_result",
          "data": {
            "text/plain": [
              "30"
            ]
          },
          "metadata": {
            "tags": []
          },
          "execution_count": 14
        }
      ]
    },
    {
      "cell_type": "markdown",
      "metadata": {
        "id": "nNfQgFy3NIkj"
      },
      "source": [
        "### **Exercise**"
      ]
    },
    {
      "cell_type": "code",
      "metadata": {
        "id": "fSOzofZ6NL0e",
        "colab": {
          "base_uri": "https://localhost:8080/",
          "height": 34
        },
        "outputId": "f6212a14-4cbb-4d04-9e18-cd021625c1e6"
      },
      "source": [
        "x=2\n",
        "y=3\n",
        "print('x=',x)"
      ],
      "execution_count": null,
      "outputs": [
        {
          "output_type": "stream",
          "text": [
            "x= 2\n"
          ],
          "name": "stdout"
        }
      ]
    },
    {
      "cell_type": "code",
      "metadata": {
        "id": "Grtz-uCoNdna",
        "colab": {
          "base_uri": "https://localhost:8080/",
          "height": 34
        },
        "outputId": "d10e1458-cbc8-41a5-c91a-e4acc3f7c402"
      },
      "source": [
        "print('Value of',x,'+',x,'is',(x+x))"
      ],
      "execution_count": null,
      "outputs": [
        {
          "output_type": "stream",
          "text": [
            "Value of 2 + 2 is 4\n"
          ],
          "name": "stdout"
        }
      ]
    },
    {
      "cell_type": "code",
      "metadata": {
        "id": "2HApczCjNtw8",
        "colab": {
          "base_uri": "https://localhost:8080/",
          "height": 34
        },
        "outputId": "d331345e-19b6-4f2c-cacb-424b4ee739eb"
      },
      "source": [
        "print('x=')"
      ],
      "execution_count": null,
      "outputs": [
        {
          "output_type": "stream",
          "text": [
            "x=\n"
          ],
          "name": "stdout"
        }
      ]
    },
    {
      "cell_type": "code",
      "metadata": {
        "id": "150yrhe1N4Vn",
        "colab": {
          "base_uri": "https://localhost:8080/",
          "height": 34
        },
        "outputId": "e7ab0fcb-6556-4a35-d612-5fd1cf8dede1"
      },
      "source": [
        "print((x+y),'=',(y+x))"
      ],
      "execution_count": null,
      "outputs": [
        {
          "output_type": "stream",
          "text": [
            "5 = 5\n"
          ],
          "name": "stdout"
        }
      ]
    }
  ]
}